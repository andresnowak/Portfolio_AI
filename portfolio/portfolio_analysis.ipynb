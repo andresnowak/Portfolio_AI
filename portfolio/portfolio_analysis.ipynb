{
 "cells": [
  {
   "cell_type": "markdown",
   "metadata": {},
   "source": [
    "# Portafolio analisis"
   ]
  },
  {
   "cell_type": "markdown",
   "metadata": {},
   "source": [
    "## SMA0104C Análisis de información"
   ]
  },
  {
   "cell_type": "markdown",
   "metadata": {},
   "source": [
    "### Trabaja con grandes volúmenes de datos"
   ]
  },
  {
   "cell_type": "markdown",
   "metadata": {},
   "source": [
    "- **¿Porque tengo esta competencia?** Se obtuvo esta subcompetencia ya que para el proyecto se tomaron grandes conjuntos de datos de 42,059 observaciones y una colección de más de 40,000 imágenes que fueron analizadas, procesadas y utilizadas para entrenar y probar la precisión de los modelos de aprendizaje y con base a los resultados obtenidos, se modificaron estos datos y se volvieron a entrenar los modelos.\n",
    "- **Evidencia de trabajo para competencia**\n",
    "  - [Estudio de modelo de segmentacion](https://github.com/andresnowak/Hydrology_AI_project/blob/main/dataset_study_v2.ipynb)\n",
    "  - [Estudio del conjunto de datos de rio de la universidad de nebraska](https://github.com/andresnowak/Hydrology_AI_project/blob/main/dataset_study.ipynb)\n"
   ]
  },
  {
   "cell_type": "markdown",
   "metadata": {},
   "source": [
    "### Procesa grandes volúmenes de datos de manera eficiente"
   ]
  },
  {
   "cell_type": "markdown",
   "metadata": {},
   "source": [
    "- **¿Porque tengo esta competencia?** Se obtuvo esta subcompetencia ya que como parte de la etapa de procesamiento de datos se modificaron la cantidad de observaciones y variables basado en métodos estadísticos para identificar las variables y observaciones más relevantes para obtener el modelo más óptimo. Asimismo, las imágenes fueron escaladas a la mitad de su resolución para disminuir la cantidad de espacio requerido para almacenarlas y reducir drásticamente el tiempo de entrenamiento.\n",
    "- **Evidencia de trabajo para competencia**\n",
    "  - [Script para reducir el tamaño de imagenes del conjunto de datos de nebraska para reducir espacio en memoria](https://github.com/samueldiaz1004/Portafolio-AI/blob/main/preprocess_resize.ipynb)"
   ]
  },
  {
   "cell_type": "markdown",
   "metadata": {},
   "source": [
    "### Genera tableros útiles y correctos que apoyen a la toma de decisiones"
   ]
  },
  {
   "cell_type": "markdown",
   "metadata": {},
   "source": [
    "- **¿Porque tengo esta competencia?** Se obtuvo esta subcompetencia ya que en el mismo análisis de la base de datos, se crearon tablas y se comparó con las imágenes para observar si existía alguna discrepancia con la imagen y los datos de esa fotografía, para así poder tomar la decisión de eliminar o conservar estos datos, además de haber hecho análisis de series de tiempo y con base a la información obtenida de las tablas generadas, observar el comportamiento de los datos.\n",
    "- **Evidencia de trabajo para competencia**\n",
    "  - [Estudio de modelo de segmentacion](https://github.com/andresnowak/Hydrology_AI_project/blob/main/dataset_study_v2.ipynb)\n",
    "  - [Estudio del conjunto de datos de rio de la universidad de nebraska](https://github.com/andresnowak/Hydrology_AI_project/blob/main/dataset_study.ipynb)"
   ]
  },
  {
   "cell_type": "markdown",
   "metadata": {},
   "source": [
    "### Mide correctamente el desempeño del modelo y sus métricas son correctas"
   ]
  },
  {
   "cell_type": "markdown",
   "metadata": {},
   "source": [
    "- **¿Porque tengo esta competencia?** Se obtuvo esta subcompetencia ya que todos los modelos probados para el proyecto pasaron por una serie de iteraciones hasta llegar a conseguir una serie de pruebas estadísticas para determinar  la precisión (accuracy) y error (loss, MSE, RMSE y MAE) de los modelos. Además, para los modelos que utilizan redes neuronales se incluyeron estas métricas en la etapa de entrenamiento para el conjunto de imágenes de validación. \n",
    "- **Evidencia de trabajo para competencia**\n",
    "  - [Modelo MLP de regresion para proyecto de la materia](https://github.com/andresnowak/Hydrology_AI_project/blob/main/models/MLPRegressor_v2.ipynb)"
   ]
  },
  {
   "cell_type": "markdown",
   "metadata": {},
   "source": [
    "### Interpreta los resultados de las predicciones de los modelos y los interpreta en el contexto del problema de manera correcta"
   ]
  },
  {
   "cell_type": "markdown",
   "metadata": {},
   "source": [
    "- **¿Porque tengo esta competencia?** Se obtuvo esta subcompetencia ya que en los diferentes modelos que se utilizaron para la base de datos numérica se obtienen resultados mediocres, aun después de analizar y modificar los parámetros de los modelos y datos, los resultados seguían siendo malos. Los modelos que utilizaban imágenes también demostraron poca eficiencia aun después de haber adaptado las imágenes seguía sin lograr tener un pronóstico correcto.\n",
    "- **Evidencia de trabajo para competencia**\n",
    "  - [Folder que contiene todos los resultados de los modelos utilizados para el proyecto](https://github.com/andresnowak/Hydrology_AI_project/tree/main/models/models_results)"
   ]
  },
  {
   "cell_type": "markdown",
   "metadata": {},
   "source": [
    "## SEG0403B - Resuelve situaciones mediante el cumplimiento de leyes, normas y principios éticos."
   ]
  },
  {
   "cell_type": "markdown",
   "metadata": {},
   "source": [
    "### Verifica que los datos estén anonimizados para no violar normas o leyes de privacidad de la información"
   ]
  },
  {
   "cell_type": "markdown",
   "metadata": {},
   "source": [
    "**No aplica**"
   ]
  },
  {
   "cell_type": "markdown",
   "metadata": {},
   "source": [
    "### Especifica el proceso o estándar a seguir para validar el manejo de los datos y garantizar que solo el equipo tenga acceso a ellos en cumplimiento con la normativa."
   ]
  },
  {
   "cell_type": "markdown",
   "metadata": {},
   "source": [
    "**No aplica**"
   ]
  },
  {
   "cell_type": "markdown",
   "metadata": {},
   "source": [
    "### Presenta registros claros sobre el seguimiento del proceso y las autorizaciones para tener acceso a los datos"
   ]
  },
  {
   "cell_type": "markdown",
   "metadata": {},
   "source": [
    "- **Justificacion** Las bases de datos que se nos brindaron o se consiguieron (ej. [Riwa dataset](https://www.kaggle.com/datasets/franzwagner/river-water-segmentation-dataset)) eran públicas y todos los cambios o movimientos que se realizaron se compartían entre los equipos para que pudieran eficientar los modelos"
   ]
  },
  {
   "cell_type": "markdown",
   "metadata": {},
   "source": [
    "## Correciones"
   ]
  },
  {
   "cell_type": "markdown",
   "metadata": {},
   "source": [
    "A lo largo del proyecto estuvimos haciendo muchas preguntas a los profesores, de como implementar nuestras ideas, (ej. model de CNN-LSTM), que ideas servirian y cuales no, porque un modelo esta sirviendo o no esta sirviendo para cambiar nuestras ideas o cambiar la manera en que resolvemos el problema a mano. Cada pregunta que haciamos con los profesores nos ayudaba a cambiar la manera en que queriamos resolver el problema y entender que cosas son posibles y si vamos por buen camino.\n",
    "\n",
    "Tambien en la parte de nuestro paper que cosas llevar, esta bien escrito el orden en donde se explican las cosas es logico o hay una mejor manera y que se tiene que abordar en el paper."
   ]
  },
  {
   "cell_type": "markdown",
   "metadata": {},
   "source": []
  }
 ],
 "metadata": {
  "kernelspec": {
   "display_name": "Python 3.9.7 ('base')",
   "language": "python",
   "name": "python3"
  },
  "language_info": {
   "name": "python",
   "version": "3.9.7"
  },
  "orig_nbformat": 4,
  "vscode": {
   "interpreter": {
    "hash": "3e015569de52eef759f1e1f588a87233645ce0525ddc54b9ca350d557be76967"
   }
  }
 },
 "nbformat": 4,
 "nbformat_minor": 2
}
