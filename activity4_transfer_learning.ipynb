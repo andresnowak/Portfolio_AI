{
 "cells": [
  {
   "cell_type": "code",
   "execution_count": 222,
   "metadata": {},
   "outputs": [],
   "source": [
    "import pandas as pd\n",
    "import numpy as np\n",
    "import tensorflow as tlf\n",
    "import matplotlib.pyplot as plt\n",
    "import seaborn as sns\n",
    "import keras\n",
    "import tensorflow as tf\n",
    "\n",
    "from keras.datasets import fashion_mnist\n",
    "from tensorflow.keras import models\n",
    "from tensorflow.keras import Sequential\n",
    "from tensorflow.keras.layers import Dense, Flatten, Conv2D, MaxPooling2D, Dropout, GlobalAveragePooling2D, GaussianNoise, AveragePooling2D, BatchNormalization\n",
    "from tensorflow.keras.optimizers import SGD, Adam\n",
    "from tensorflow.keras import regularizers\n",
    "from tensorflow.keras.preprocessing.image import ImageDataGenerator\n"
   ]
  },
  {
   "cell_type": "code",
   "execution_count": 223,
   "metadata": {},
   "outputs": [],
   "source": [
    "train_dir = \"dataset/cats_and_dogs_small/train/\"\n",
    "val_dir = \"dataset/cats_and_dogs_small/validation/\"\n",
    "test_dir = \"dataset/cats_and_dogs_small/test\""
   ]
  },
  {
   "cell_type": "code",
   "execution_count": 224,
   "metadata": {},
   "outputs": [],
   "source": [
    "CLASSES_NAMES = [\"cats\", \"dogs\"]"
   ]
  },
  {
   "cell_type": "markdown",
   "metadata": {},
   "source": [
    "## Read dataset"
   ]
  },
  {
   "cell_type": "code",
   "execution_count": 225,
   "metadata": {},
   "outputs": [],
   "source": [
    "BATCH_SIZE = 32"
   ]
  },
  {
   "cell_type": "markdown",
   "metadata": {},
   "source": [
    "### Data augmenting"
   ]
  },
  {
   "cell_type": "code",
   "execution_count": 226,
   "metadata": {},
   "outputs": [],
   "source": [
    "def to_grayscale_then_rgb(image):\n",
    "    image = tf.image.rgb_to_grayscale(image)\n",
    "    image = tf.image.grayscale_to_rgb(image)\n",
    "    return image"
   ]
  },
  {
   "cell_type": "code",
   "execution_count": 227,
   "metadata": {},
   "outputs": [],
   "source": [
    "train_datagen = ImageDataGenerator(\n",
    "      rescale=1./255,\n",
    "      rotation_range=30,\n",
    "      width_shift_range=0.2,\n",
    "      height_shift_range=0.2,\n",
    "      zoom_range=0.2,\n",
    "      preprocessing_function=to_grayscale_then_rgb,\n",
    "      horizontal_flip=True,\n",
    "      fill_mode='nearest')\n",
    "val_datagen = ImageDataGenerator(\n",
    "      rescale=1./255,\n",
    "      zoom_range=0.2,\n",
    "      rotation_range=30,\n",
    "      preprocessing_function=to_grayscale_then_rgb,\n",
    "      horizontal_flip=True)\n",
    "test_datagen = ImageDataGenerator(\n",
    "      rescale=1./255,\n",
    "      zoom_range=0.2,\n",
    "      rotation_range=30,\n",
    "      preprocessing_function=to_grayscale_then_rgb,\n",
    "      horizontal_flip=True)"
   ]
  },
  {
   "cell_type": "code",
   "execution_count": 228,
   "metadata": {},
   "outputs": [
    {
     "name": "stdout",
     "output_type": "stream",
     "text": [
      "Found 2000 images belonging to 2 classes.\n",
      "Found 1000 images belonging to 2 classes.\n",
      "Found 1030 images belonging to 2 classes.\n"
     ]
    }
   ],
   "source": [
    "train_data = train_datagen.flow_from_directory(train_dir, batch_size=BATCH_SIZE, target_size=(224, 224), class_mode=\"sparse\")\n",
    "val_data = val_datagen.flow_from_directory(val_dir, target_size=(224, 224), batch_size=BATCH_SIZE, class_mode=\"sparse\")\n",
    "test_data = test_datagen.flow_from_directory(test_dir, target_size=(224, 224), batch_size=BATCH_SIZE, class_mode=\"sparse\")"
   ]
  },
  {
   "cell_type": "code",
   "execution_count": 229,
   "metadata": {},
   "outputs": [],
   "source": [
    "input_shape = train_data.image_shape\n",
    "output_shape = len(train_data.class_indices)"
   ]
  },
  {
   "cell_type": "code",
   "execution_count": 230,
   "metadata": {},
   "outputs": [
    {
     "name": "stdout",
     "output_type": "stream",
     "text": [
      "(224, 224, 3)\n",
      "2\n",
      "2000\n",
      "1000\n",
      "1030\n"
     ]
    }
   ],
   "source": [
    "print(input_shape)\n",
    "print(output_shape)\n",
    "print(train_data.samples)\n",
    "print(val_data.samples)\n",
    "print(test_data.samples)"
   ]
  },
  {
   "cell_type": "markdown",
   "metadata": {},
   "source": [
    "- What is the dataset about? \n",
    "  - The dataset is about the images of dogs and cats, organized by directories for labeling\n",
    "- Also describes the following characteristics: number of classes, number of samples, how the samples are split, sample size, value type.\n",
    "  - classes: 2 classes, dog and cat\n",
    "  - number of samples: 2000 training, 1000 validation, 1030 testing (4030 total)\n",
    "  - value type: images and labels in 0 to n values\n"
   ]
  },
  {
   "cell_type": "markdown",
   "metadata": {},
   "source": [
    "## Create Model Functions"
   ]
  },
  {
   "cell_type": "code",
   "execution_count": 231,
   "metadata": {},
   "outputs": [],
   "source": [
    "def create_model(shape, output_shape, model_type):\n",
    "    model = Sequential()\n",
    "\n",
    "    if model_type == \"resnet\":\n",
    "        resnet = tf.keras.applications.ResNet50V2(\n",
    "                    include_top=False,\n",
    "                    weights=\"imagenet\",\n",
    "                    input_tensor=None,\n",
    "                    input_shape=shape,\n",
    "                    pooling=None)\n",
    "\n",
    "        for layer in resnet.layers:\n",
    "\t        layer.trainable = False\n",
    "            \n",
    "        model.add(resnet)\n",
    "\n",
    "        model.add(GlobalAveragePooling2D())\n",
    "        model.add(Dense(256, activation='elu'))\n",
    "        model.add(Dense(256, activation='elu'))\n",
    "    elif model_type == \"mobilenet\":\n",
    "        mobilenet = tf.keras.applications.MobileNetV2(\n",
    "                    include_top=False,\n",
    "                    weights=\"imagenet\",\n",
    "                    input_tensor=None,\n",
    "                    input_shape=shape,\n",
    "                    pooling=None)\n",
    "\n",
    "        mobilenet.trainable = False\n",
    "\n",
    "        for layer in mobilenet.layers:\n",
    "\t        layer.trainable = False\n",
    "\n",
    "        model.add(mobilenet)\n",
    "\n",
    "        model.add(Flatten())\n",
    "        model.add(Dense(256, activation='elu'))\n",
    "        model.add(Dense(256, activation='elu'))\n",
    "    elif model_type == \"densenet\":\n",
    "        densenet = tf.keras.applications.DenseNet201(\n",
    "                    include_top=False,\n",
    "                    weights=\"imagenet\",\n",
    "                    input_tensor=None,\n",
    "                    input_shape=shape,\n",
    "                    pooling=None)\n",
    "\n",
    "        for layer in densenet.layers:\n",
    "\t        layer.trainable = False\n",
    "\n",
    "        model.add(densenet)\n",
    "\n",
    "        model.add(Flatten())\n",
    "        model.add(Dense(256, activation='elu'))\n",
    "        model.add(Dense(256, activation='elu'))\n",
    "\n",
    "    model.add(Dense(output_shape, activation='softmax')) # classifier, (10 amount of outputs to classify)\n",
    "\n",
    "    return model"
   ]
  },
  {
   "cell_type": "code",
   "execution_count": 232,
   "metadata": {},
   "outputs": [],
   "source": [
    "def compile_model(model, loss_func, optimizer, metrics=[\"accuracy\"]):\n",
    "   model.compile(loss=loss_func, optimizer=optimizer, metrics=metrics)"
   ]
  },
  {
   "cell_type": "code",
   "execution_count": 233,
   "metadata": {},
   "outputs": [],
   "source": [
    "def fit_model(model, train_data, validation_data=(), batch_size=32, epochs=10, callbacks=[]):\n",
    "    return model.fit(train_data, validation_data=validation_data, batch_size=batch_size, epochs=epochs, callbacks=callbacks)"
   ]
  },
  {
   "cell_type": "code",
   "execution_count": 234,
   "metadata": {},
   "outputs": [],
   "source": [
    "def evaluate_model(model, values):\n",
    "  score = model.evaluate(values)\n",
    "  return score"
   ]
  },
  {
   "cell_type": "code",
   "execution_count": 235,
   "metadata": {},
   "outputs": [],
   "source": [
    "from sklearn.metrics import confusion_matrix, ConfusionMatrixDisplay\n",
    "\n",
    "\n",
    "def confusion_matrix_model(y_true, y_pred):\n",
    "    cm = confusion_matrix(y_true, y_pred, normalize='true')\n",
    "    cmdis = ConfusionMatrixDisplay(confusion_matrix=cm, display_labels=CLASSES_NAMES)\n",
    "\n",
    "\n",
    "    cmdis.plot(cmap=plt.cm.Blues)\n",
    "    plt.show()"
   ]
  },
  {
   "cell_type": "markdown",
   "metadata": {},
   "source": [
    "## Create First Model"
   ]
  },
  {
   "cell_type": "code",
   "execution_count": 236,
   "metadata": {},
   "outputs": [],
   "source": [
    "first_model = create_model(input_shape, output_shape, \"resnet\")"
   ]
  },
  {
   "cell_type": "code",
   "execution_count": 237,
   "metadata": {},
   "outputs": [
    {
     "name": "stdout",
     "output_type": "stream",
     "text": [
      "Model: \"sequential_13\"\n",
      "_________________________________________________________________\n",
      " Layer (type)                Output Shape              Param #   \n",
      "=================================================================\n",
      " resnet50v2 (Functional)     (None, 7, 7, 2048)        23564800  \n",
      "                                                                 \n",
      " global_average_pooling2d_6   (None, 2048)             0         \n",
      " (GlobalAveragePooling2D)                                        \n",
      "                                                                 \n",
      " dense_37 (Dense)            (None, 256)               524544    \n",
      "                                                                 \n",
      " dense_38 (Dense)            (None, 256)               65792     \n",
      "                                                                 \n",
      " dense_39 (Dense)            (None, 2)                 514       \n",
      "                                                                 \n",
      "=================================================================\n",
      "Total params: 24,155,650\n",
      "Trainable params: 590,850\n",
      "Non-trainable params: 23,564,800\n",
      "_________________________________________________________________\n"
     ]
    }
   ],
   "source": [
    "first_model.summary()"
   ]
  },
  {
   "cell_type": "markdown",
   "metadata": {},
   "source": [
    "### Compile model"
   ]
  },
  {
   "cell_type": "code",
   "execution_count": 238,
   "metadata": {},
   "outputs": [],
   "source": [
    "checkpoint_callback = tf.keras.callbacks.ModelCheckpoint(\n",
    "                            filepath=\"checkpoints/cnn_4_model_1_best_weights.hdf5\",\n",
    "                            monitor='val_loss',\n",
    "                            verbose=1,\n",
    "                            save_best_only=True)\n",
    "\n",
    "es_callback = tf.keras.callbacks.EarlyStopping(monitor='val_loss', mode='min', verbose=1, patience=5)"
   ]
  },
  {
   "cell_type": "code",
   "execution_count": 239,
   "metadata": {},
   "outputs": [],
   "source": [
    "sgd = SGD(learning_rate=0.01, decay=1e-6, momentum=0.9, nesterov=True)\n",
    "adam = Adam(learning_rate=1e-3, decay=1e-3 / 300)\n",
    "\n",
    "compile_model(first_model, 'sparse_categorical_crossentropy', adam)"
   ]
  },
  {
   "cell_type": "code",
   "execution_count": 240,
   "metadata": {},
   "outputs": [
    {
     "name": "stdout",
     "output_type": "stream",
     "text": [
      "Epoch 1/20\n"
     ]
    },
    {
     "name": "stderr",
     "output_type": "stream",
     "text": [
      "2022-10-31 22:42:15.200414: I tensorflow/core/grappler/optimizers/custom_graph_optimizer_registry.cc:113] Plugin optimizer for device_type GPU is enabled.\n"
     ]
    },
    {
     "name": "stdout",
     "output_type": "stream",
     "text": [
      "63/63 [==============================] - ETA: 0s - loss: 0.2286 - accuracy: 0.9310"
     ]
    },
    {
     "name": "stderr",
     "output_type": "stream",
     "text": [
      "2022-10-31 22:42:43.830148: I tensorflow/core/grappler/optimizers/custom_graph_optimizer_registry.cc:113] Plugin optimizer for device_type GPU is enabled.\n"
     ]
    },
    {
     "name": "stdout",
     "output_type": "stream",
     "text": [
      "\n",
      "Epoch 1: val_loss improved from inf to 0.06775, saving model to checkpoints/cnn_4_model_1_best_weights.hdf5\n",
      "63/63 [==============================] - 47s 663ms/step - loss: 0.2286 - accuracy: 0.9310 - val_loss: 0.0678 - val_accuracy: 0.9710\n",
      "Epoch 2/20\n",
      "63/63 [==============================] - ETA: 0s - loss: 0.0837 - accuracy: 0.9640\n",
      "Epoch 2: val_loss did not improve from 0.06775\n",
      "63/63 [==============================] - 35s 559ms/step - loss: 0.0837 - accuracy: 0.9640 - val_loss: 0.1134 - val_accuracy: 0.9630\n",
      "Epoch 3/20\n",
      "63/63 [==============================] - ETA: 0s - loss: 0.0781 - accuracy: 0.9665\n",
      "Epoch 3: val_loss did not improve from 0.06775\n",
      "63/63 [==============================] - 35s 554ms/step - loss: 0.0781 - accuracy: 0.9665 - val_loss: 0.0985 - val_accuracy: 0.9640\n",
      "Epoch 4/20\n",
      "63/63 [==============================] - ETA: 0s - loss: 0.0788 - accuracy: 0.9725\n",
      "Epoch 4: val_loss did not improve from 0.06775\n",
      "63/63 [==============================] - 35s 561ms/step - loss: 0.0788 - accuracy: 0.9725 - val_loss: 0.0719 - val_accuracy: 0.9750\n",
      "Epoch 5/20\n",
      "63/63 [==============================] - ETA: 0s - loss: 0.0717 - accuracy: 0.9705\n",
      "Epoch 5: val_loss did not improve from 0.06775\n",
      "63/63 [==============================] - 35s 558ms/step - loss: 0.0717 - accuracy: 0.9705 - val_loss: 0.0814 - val_accuracy: 0.9670\n",
      "Epoch 6/20\n",
      "63/63 [==============================] - ETA: 0s - loss: 0.0629 - accuracy: 0.9740\n",
      "Epoch 6: val_loss did not improve from 0.06775\n",
      "63/63 [==============================] - 35s 556ms/step - loss: 0.0629 - accuracy: 0.9740 - val_loss: 0.0853 - val_accuracy: 0.9710\n",
      "Epoch 6: early stopping\n"
     ]
    }
   ],
   "source": [
    "first_history = fit_model(first_model, train_data, validation_data=val_data, epochs=20, callbacks=[checkpoint_callback, es_callback])"
   ]
  },
  {
   "cell_type": "markdown",
   "metadata": {},
   "source": [
    "### Study model"
   ]
  },
  {
   "cell_type": "code",
   "execution_count": 241,
   "metadata": {},
   "outputs": [
    {
     "data": {
      "text/html": [
       "<div>\n",
       "<style scoped>\n",
       "    .dataframe tbody tr th:only-of-type {\n",
       "        vertical-align: middle;\n",
       "    }\n",
       "\n",
       "    .dataframe tbody tr th {\n",
       "        vertical-align: top;\n",
       "    }\n",
       "\n",
       "    .dataframe thead th {\n",
       "        text-align: right;\n",
       "    }\n",
       "</style>\n",
       "<table border=\"1\" class=\"dataframe\">\n",
       "  <thead>\n",
       "    <tr style=\"text-align: right;\">\n",
       "      <th></th>\n",
       "      <th>loss</th>\n",
       "      <th>accuracy</th>\n",
       "      <th>val_loss</th>\n",
       "      <th>val_accuracy</th>\n",
       "    </tr>\n",
       "  </thead>\n",
       "  <tbody>\n",
       "    <tr>\n",
       "      <th>0</th>\n",
       "      <td>0.228611</td>\n",
       "      <td>0.9310</td>\n",
       "      <td>0.067751</td>\n",
       "      <td>0.971</td>\n",
       "    </tr>\n",
       "    <tr>\n",
       "      <th>1</th>\n",
       "      <td>0.083709</td>\n",
       "      <td>0.9640</td>\n",
       "      <td>0.113419</td>\n",
       "      <td>0.963</td>\n",
       "    </tr>\n",
       "    <tr>\n",
       "      <th>2</th>\n",
       "      <td>0.078125</td>\n",
       "      <td>0.9665</td>\n",
       "      <td>0.098532</td>\n",
       "      <td>0.964</td>\n",
       "    </tr>\n",
       "    <tr>\n",
       "      <th>3</th>\n",
       "      <td>0.078771</td>\n",
       "      <td>0.9725</td>\n",
       "      <td>0.071948</td>\n",
       "      <td>0.975</td>\n",
       "    </tr>\n",
       "    <tr>\n",
       "      <th>4</th>\n",
       "      <td>0.071699</td>\n",
       "      <td>0.9705</td>\n",
       "      <td>0.081394</td>\n",
       "      <td>0.967</td>\n",
       "    </tr>\n",
       "    <tr>\n",
       "      <th>5</th>\n",
       "      <td>0.062856</td>\n",
       "      <td>0.9740</td>\n",
       "      <td>0.085287</td>\n",
       "      <td>0.971</td>\n",
       "    </tr>\n",
       "  </tbody>\n",
       "</table>\n",
       "</div>"
      ],
      "text/plain": [
       "       loss  accuracy  val_loss  val_accuracy\n",
       "0  0.228611    0.9310  0.067751         0.971\n",
       "1  0.083709    0.9640  0.113419         0.963\n",
       "2  0.078125    0.9665  0.098532         0.964\n",
       "3  0.078771    0.9725  0.071948         0.975\n",
       "4  0.071699    0.9705  0.081394         0.967\n",
       "5  0.062856    0.9740  0.085287         0.971"
      ]
     },
     "execution_count": 241,
     "metadata": {},
     "output_type": "execute_result"
    }
   ],
   "source": [
    "df_model_history = pd.DataFrame(first_history.history)\n",
    "df_model_history"
   ]
  },
  {
   "cell_type": "code",
   "execution_count": 242,
   "metadata": {},
   "outputs": [],
   "source": [
    "amount_epochs = np.arange(0, df_model_history.shape[0])"
   ]
  },
  {
   "cell_type": "code",
   "execution_count": 243,
   "metadata": {},
   "outputs": [
    {
     "data": {
      "text/plain": [
       "<AxesSubplot:ylabel='accuracy'>"
      ]
     },
     "execution_count": 243,
     "metadata": {},
     "output_type": "execute_result"
    },
    {
     "data": {
      "image/png": "[encoded data removed]",
      "text/plain": [
       "<Figure size 432x288 with 1 Axes>"
      ]
     },
     "metadata": {
      "needs_background": "light"
     },
     "output_type": "display_data"
    }
   ],
   "source": [
    "sns.lineplot(data=df_model_history, y=\"accuracy\", x=amount_epochs, label=\"train\")\n",
    "sns.lineplot(data=df_model_history, y=\"val_accuracy\", x=amount_epochs, label=\"val\")"
   ]
  },
  {
   "cell_type": "code",
   "execution_count": 244,
   "metadata": {},
   "outputs": [
    {
     "data": {
      "text/plain": [
       "<AxesSubplot:ylabel='loss'>"
      ]
     },
     "execution_count": 244,
     "metadata": {},
     "output_type": "execute_result"
    },
    {
     "data": {
      "image/png": "[encoded data removed]",
      "text/plain": [
       "<Figure size 432x288 with 1 Axes>"
      ]
     },
     "metadata": {
      "needs_background": "light"
     },
     "output_type": "display_data"
    }
   ],
   "source": [
    "sns.lineplot(data=df_model_history, y=\"loss\", x=amount_epochs, label=\"train\")\n",
    "sns.lineplot(data=df_model_history, y=\"val_loss\", x=amount_epochs, label=\"val\")"
   ]
  },
  {
   "cell_type": "markdown",
   "metadata": {},
   "source": [
    "### Evaluate model"
   ]
  },
  {
   "cell_type": "code",
   "execution_count": 245,
   "metadata": {},
   "outputs": [],
   "source": [
    "\n",
    "best_model = models.load_model('checkpoints/cnn_4_model_1_best_weights.hdf5')"
   ]
  },
  {
   "cell_type": "code",
   "execution_count": 246,
   "metadata": {},
   "outputs": [
    {
     "name": "stderr",
     "output_type": "stream",
     "text": [
      "2022-10-31 22:45:56.183851: I tensorflow/core/grappler/optimizers/custom_graph_optimizer_registry.cc:113] Plugin optimizer for device_type GPU is enabled.\n"
     ]
    },
    {
     "name": "stdout",
     "output_type": "stream",
     "text": [
      "33/33 [==============================] - 16s 436ms/step - loss: 0.0839 - accuracy: 0.9728\n"
     ]
    }
   ],
   "source": [
    "test_loss, test_accuracy = evaluate_model(best_model, test_data)"
   ]
  },
  {
   "cell_type": "code",
   "execution_count": 276,
   "metadata": {},
   "outputs": [
    {
     "name": "stdout",
     "output_type": "stream",
     "text": [
      "33/33 [==============================] - 19s 572ms/step\n"
     ]
    },
    {
     "data": {
      "image/png": "[encoded data removed]",
      "text/plain": [
       "<Figure size 432x288 with 2 Axes>"
      ]
     },
     "metadata": {
      "needs_background": "light"
     },
     "output_type": "display_data"
    }
   ],
   "source": [
    "test_data.shuffle = False\n",
    "\n",
    "y_pred = best_model.predict(test_data)\n",
    "\n",
    "y_pred = np.argmax(y_pred, axis=1)\n",
    "y_pred = y_pred.tolist()\n",
    "\n",
    "confusion_matrix_model(test_data.classes, y_pred)"
   ]
  },
  {
   "cell_type": "code",
   "execution_count": 277,
   "metadata": {},
   "outputs": [],
   "source": [
    "test_data.shuffle = True"
   ]
  },
  {
   "cell_type": "markdown",
   "metadata": {},
   "source": [
    "## Create second model"
   ]
  },
  {
   "cell_type": "code",
   "execution_count": 249,
   "metadata": {},
   "outputs": [],
   "source": [
    "second_model = create_model(input_shape, output_shape, \"mobilenet\")"
   ]
  },
  {
   "cell_type": "code",
   "execution_count": 250,
   "metadata": {},
   "outputs": [
    {
     "name": "stdout",
     "output_type": "stream",
     "text": [
      "Model: \"sequential_14\"\n",
      "_________________________________________________________________\n",
      " Layer (type)                Output Shape              Param #   \n",
      "=================================================================\n",
      " mobilenetv2_1.00_224 (Funct  (None, 7, 7, 1280)       2257984   \n",
      " ional)                                                          \n",
      "                                                                 \n",
      " flatten_6 (Flatten)         (None, 62720)             0         \n",
      "                                                                 \n",
      " dense_40 (Dense)            (None, 256)               16056576  \n",
      "                                                                 \n",
      " dense_41 (Dense)            (None, 256)               65792     \n",
      "                                                                 \n",
      " dense_42 (Dense)            (None, 2)                 514       \n",
      "                                                                 \n",
      "=================================================================\n",
      "Total params: 18,380,866\n",
      "Trainable params: 16,122,882\n",
      "Non-trainable params: 2,257,984\n",
      "_________________________________________________________________\n"
     ]
    }
   ],
   "source": [
    "second_model.summary()"
   ]
  },
  {
   "cell_type": "markdown",
   "metadata": {},
   "source": [
    "### Compile model"
   ]
  },
  {
   "cell_type": "code",
   "execution_count": 251,
   "metadata": {},
   "outputs": [],
   "source": [
    "checkpoint_callback = tf.keras.callbacks.ModelCheckpoint(\n",
    "                            filepath=\"checkpoints/cnn_4_model_2_best_weights.hdf5\",\n",
    "                            monitor='val_loss',\n",
    "                            verbose=1,\n",
    "                            save_best_only=True)\n",
    "\n",
    "es_callback = tf.keras.callbacks.EarlyStopping(monitor='val_loss', mode='min', verbose=1, patience=5)"
   ]
  },
  {
   "cell_type": "code",
   "execution_count": 252,
   "metadata": {},
   "outputs": [],
   "source": [
    "sgd = SGD(learning_rate=0.01, decay=1e-6, momentum=0.9, nesterov=True)\n",
    "adam = Adam(learning_rate=1e-3, decay=1e-3 / 300)\n",
    "\n",
    "compile_model(second_model, 'sparse_categorical_crossentropy', adam)"
   ]
  },
  {
   "cell_type": "code",
   "execution_count": 253,
   "metadata": {},
   "outputs": [
    {
     "name": "stdout",
     "output_type": "stream",
     "text": [
      "Epoch 1/20\n"
     ]
    },
    {
     "name": "stderr",
     "output_type": "stream",
     "text": [
      "2022-10-31 22:46:32.528966: I tensorflow/core/grappler/optimizers/custom_graph_optimizer_registry.cc:113] Plugin optimizer for device_type GPU is enabled.\n"
     ]
    },
    {
     "name": "stdout",
     "output_type": "stream",
     "text": [
      "63/63 [==============================] - ETA: 0s - loss: 1.5270 - accuracy: 0.8800"
     ]
    },
    {
     "name": "stderr",
     "output_type": "stream",
     "text": [
      "2022-10-31 22:46:57.903279: I tensorflow/core/grappler/optimizers/custom_graph_optimizer_registry.cc:113] Plugin optimizer for device_type GPU is enabled.\n"
     ]
    },
    {
     "name": "stdout",
     "output_type": "stream",
     "text": [
      "\n",
      "Epoch 1: val_loss improved from inf to 0.35292, saving model to checkpoints/cnn_4_model_2_best_weights.hdf5\n",
      "63/63 [==============================] - 42s 589ms/step - loss: 1.5270 - accuracy: 0.8800 - val_loss: 0.3529 - val_accuracy: 0.9520\n",
      "Epoch 2/20\n",
      "63/63 [==============================] - ETA: 0s - loss: 0.2877 - accuracy: 0.9385\n",
      "Epoch 2: val_loss did not improve from 0.35292\n",
      "63/63 [==============================] - 32s 504ms/step - loss: 0.2877 - accuracy: 0.9385 - val_loss: 0.7680 - val_accuracy: 0.9200\n",
      "Epoch 3/20\n",
      "63/63 [==============================] - ETA: 0s - loss: 0.3469 - accuracy: 0.9395\n",
      "Epoch 3: val_loss improved from 0.35292 to 0.28275, saving model to checkpoints/cnn_4_model_2_best_weights.hdf5\n",
      "63/63 [==============================] - 32s 504ms/step - loss: 0.3469 - accuracy: 0.9395 - val_loss: 0.2827 - val_accuracy: 0.9400\n",
      "Epoch 4/20\n",
      "63/63 [==============================] - ETA: 0s - loss: 0.2065 - accuracy: 0.9500\n",
      "Epoch 4: val_loss improved from 0.28275 to 0.25088, saving model to checkpoints/cnn_4_model_2_best_weights.hdf5\n",
      "63/63 [==============================] - 32s 506ms/step - loss: 0.2065 - accuracy: 0.9500 - val_loss: 0.2509 - val_accuracy: 0.9410\n",
      "Epoch 5/20\n",
      "63/63 [==============================] - ETA: 0s - loss: 0.1861 - accuracy: 0.9500\n",
      "Epoch 5: val_loss improved from 0.25088 to 0.17312, saving model to checkpoints/cnn_4_model_2_best_weights.hdf5\n",
      "63/63 [==============================] - 31s 497ms/step - loss: 0.1861 - accuracy: 0.9500 - val_loss: 0.1731 - val_accuracy: 0.9520\n",
      "Epoch 6/20\n",
      "63/63 [==============================] - ETA: 0s - loss: 0.1988 - accuracy: 0.9450\n",
      "Epoch 6: val_loss improved from 0.17312 to 0.16813, saving model to checkpoints/cnn_4_model_2_best_weights.hdf5\n",
      "63/63 [==============================] - 31s 496ms/step - loss: 0.1988 - accuracy: 0.9450 - val_loss: 0.1681 - val_accuracy: 0.9570\n",
      "Epoch 7/20\n",
      "63/63 [==============================] - ETA: 0s - loss: 0.2355 - accuracy: 0.9435\n",
      "Epoch 7: val_loss improved from 0.16813 to 0.16051, saving model to checkpoints/cnn_4_model_2_best_weights.hdf5\n",
      "63/63 [==============================] - 31s 495ms/step - loss: 0.2355 - accuracy: 0.9435 - val_loss: 0.1605 - val_accuracy: 0.9540\n",
      "Epoch 8/20\n",
      "63/63 [==============================] - ETA: 0s - loss: 0.1359 - accuracy: 0.9605\n",
      "Epoch 8: val_loss improved from 0.16051 to 0.14318, saving model to checkpoints/cnn_4_model_2_best_weights.hdf5\n",
      "63/63 [==============================] - 31s 500ms/step - loss: 0.1359 - accuracy: 0.9605 - val_loss: 0.1432 - val_accuracy: 0.9620\n",
      "Epoch 9/20\n",
      "63/63 [==============================] - ETA: 0s - loss: 0.1058 - accuracy: 0.9625\n",
      "Epoch 9: val_loss improved from 0.14318 to 0.13330, saving model to checkpoints/cnn_4_model_2_best_weights.hdf5\n",
      "63/63 [==============================] - 31s 492ms/step - loss: 0.1058 - accuracy: 0.9625 - val_loss: 0.1333 - val_accuracy: 0.9630\n",
      "Epoch 10/20\n",
      "63/63 [==============================] - ETA: 0s - loss: 0.1062 - accuracy: 0.9605\n",
      "Epoch 10: val_loss improved from 0.13330 to 0.12834, saving model to checkpoints/cnn_4_model_2_best_weights.hdf5\n",
      "63/63 [==============================] - 31s 492ms/step - loss: 0.1062 - accuracy: 0.9605 - val_loss: 0.1283 - val_accuracy: 0.9630\n",
      "Epoch 11/20\n",
      "63/63 [==============================] - ETA: 0s - loss: 0.0971 - accuracy: 0.9650\n",
      "Epoch 11: val_loss improved from 0.12834 to 0.11756, saving model to checkpoints/cnn_4_model_2_best_weights.hdf5\n",
      "63/63 [==============================] - 31s 492ms/step - loss: 0.0971 - accuracy: 0.9650 - val_loss: 0.1176 - val_accuracy: 0.9620\n",
      "Epoch 12/20\n",
      "63/63 [==============================] - ETA: 0s - loss: 0.0835 - accuracy: 0.9665\n",
      "Epoch 12: val_loss did not improve from 0.11756\n",
      "63/63 [==============================] - 31s 490ms/step - loss: 0.0835 - accuracy: 0.9665 - val_loss: 0.1545 - val_accuracy: 0.9600\n",
      "Epoch 13/20\n",
      "63/63 [==============================] - ETA: 0s - loss: 0.0993 - accuracy: 0.9680\n",
      "Epoch 13: val_loss did not improve from 0.11756\n",
      "63/63 [==============================] - 30s 484ms/step - loss: 0.0993 - accuracy: 0.9680 - val_loss: 0.2090 - val_accuracy: 0.9570\n",
      "Epoch 14/20\n",
      "63/63 [==============================] - ETA: 0s - loss: 0.0955 - accuracy: 0.9745\n",
      "Epoch 14: val_loss did not improve from 0.11756\n",
      "63/63 [==============================] - 31s 491ms/step - loss: 0.0955 - accuracy: 0.9745 - val_loss: 0.1662 - val_accuracy: 0.9600\n",
      "Epoch 15/20\n",
      "63/63 [==============================] - ETA: 0s - loss: 0.1119 - accuracy: 0.9620\n",
      "Epoch 15: val_loss did not improve from 0.11756\n",
      "63/63 [==============================] - 31s 491ms/step - loss: 0.1119 - accuracy: 0.9620 - val_loss: 0.2493 - val_accuracy: 0.9370\n",
      "Epoch 16/20\n",
      "63/63 [==============================] - ETA: 0s - loss: 0.0963 - accuracy: 0.9620\n",
      "Epoch 16: val_loss did not improve from 0.11756\n",
      "63/63 [==============================] - 30s 485ms/step - loss: 0.0963 - accuracy: 0.9620 - val_loss: 0.1184 - val_accuracy: 0.9550\n",
      "Epoch 16: early stopping\n"
     ]
    }
   ],
   "source": [
    "second_history = fit_model(second_model, train_data, validation_data=val_data, epochs=20, callbacks=[checkpoint_callback, es_callback])"
   ]
  },
  {
   "cell_type": "markdown",
   "metadata": {},
   "source": [
    "### Study model"
   ]
  },
  {
   "cell_type": "code",
   "execution_count": 254,
   "metadata": {},
   "outputs": [
    {
     "data": {
      "text/html": [
       "<div>\n",
       "<style scoped>\n",
       "    .dataframe tbody tr th:only-of-type {\n",
       "        vertical-align: middle;\n",
       "    }\n",
       "\n",
       "    .dataframe tbody tr th {\n",
       "        vertical-align: top;\n",
       "    }\n",
       "\n",
       "    .dataframe thead th {\n",
       "        text-align: right;\n",
       "    }\n",
       "</style>\n",
       "<table border=\"1\" class=\"dataframe\">\n",
       "  <thead>\n",
       "    <tr style=\"text-align: right;\">\n",
       "      <th></th>\n",
       "      <th>loss</th>\n",
       "      <th>accuracy</th>\n",
       "      <th>val_loss</th>\n",
       "      <th>val_accuracy</th>\n",
       "    </tr>\n",
       "  </thead>\n",
       "  <tbody>\n",
       "    <tr>\n",
       "      <th>0</th>\n",
       "      <td>1.527036</td>\n",
       "      <td>0.8800</td>\n",
       "      <td>0.352919</td>\n",
       "      <td>0.952</td>\n",
       "    </tr>\n",
       "    <tr>\n",
       "      <th>1</th>\n",
       "      <td>0.287704</td>\n",
       "      <td>0.9385</td>\n",
       "      <td>0.767974</td>\n",
       "      <td>0.920</td>\n",
       "    </tr>\n",
       "    <tr>\n",
       "      <th>2</th>\n",
       "      <td>0.346921</td>\n",
       "      <td>0.9395</td>\n",
       "      <td>0.282747</td>\n",
       "      <td>0.940</td>\n",
       "    </tr>\n",
       "    <tr>\n",
       "      <th>3</th>\n",
       "      <td>0.206508</td>\n",
       "      <td>0.9500</td>\n",
       "      <td>0.250883</td>\n",
       "      <td>0.941</td>\n",
       "    </tr>\n",
       "    <tr>\n",
       "      <th>4</th>\n",
       "      <td>0.186109</td>\n",
       "      <td>0.9500</td>\n",
       "      <td>0.173124</td>\n",
       "      <td>0.952</td>\n",
       "    </tr>\n",
       "    <tr>\n",
       "      <th>5</th>\n",
       "      <td>0.198795</td>\n",
       "      <td>0.9450</td>\n",
       "      <td>0.168126</td>\n",
       "      <td>0.957</td>\n",
       "    </tr>\n",
       "    <tr>\n",
       "      <th>6</th>\n",
       "      <td>0.235543</td>\n",
       "      <td>0.9435</td>\n",
       "      <td>0.160510</td>\n",
       "      <td>0.954</td>\n",
       "    </tr>\n",
       "    <tr>\n",
       "      <th>7</th>\n",
       "      <td>0.135905</td>\n",
       "      <td>0.9605</td>\n",
       "      <td>0.143182</td>\n",
       "      <td>0.962</td>\n",
       "    </tr>\n",
       "    <tr>\n",
       "      <th>8</th>\n",
       "      <td>0.105826</td>\n",
       "      <td>0.9625</td>\n",
       "      <td>0.133296</td>\n",
       "      <td>0.963</td>\n",
       "    </tr>\n",
       "    <tr>\n",
       "      <th>9</th>\n",
       "      <td>0.106187</td>\n",
       "      <td>0.9605</td>\n",
       "      <td>0.128342</td>\n",
       "      <td>0.963</td>\n",
       "    </tr>\n",
       "    <tr>\n",
       "      <th>10</th>\n",
       "      <td>0.097090</td>\n",
       "      <td>0.9650</td>\n",
       "      <td>0.117555</td>\n",
       "      <td>0.962</td>\n",
       "    </tr>\n",
       "    <tr>\n",
       "      <th>11</th>\n",
       "      <td>0.083454</td>\n",
       "      <td>0.9665</td>\n",
       "      <td>0.154490</td>\n",
       "      <td>0.960</td>\n",
       "    </tr>\n",
       "    <tr>\n",
       "      <th>12</th>\n",
       "      <td>0.099268</td>\n",
       "      <td>0.9680</td>\n",
       "      <td>0.209043</td>\n",
       "      <td>0.957</td>\n",
       "    </tr>\n",
       "    <tr>\n",
       "      <th>13</th>\n",
       "      <td>0.095529</td>\n",
       "      <td>0.9745</td>\n",
       "      <td>0.166200</td>\n",
       "      <td>0.960</td>\n",
       "    </tr>\n",
       "    <tr>\n",
       "      <th>14</th>\n",
       "      <td>0.111914</td>\n",
       "      <td>0.9620</td>\n",
       "      <td>0.249318</td>\n",
       "      <td>0.937</td>\n",
       "    </tr>\n",
       "    <tr>\n",
       "      <th>15</th>\n",
       "      <td>0.096274</td>\n",
       "      <td>0.9620</td>\n",
       "      <td>0.118369</td>\n",
       "      <td>0.955</td>\n",
       "    </tr>\n",
       "  </tbody>\n",
       "</table>\n",
       "</div>"
      ],
      "text/plain": [
       "        loss  accuracy  val_loss  val_accuracy\n",
       "0   1.527036    0.8800  0.352919         0.952\n",
       "1   0.287704    0.9385  0.767974         0.920\n",
       "2   0.346921    0.9395  0.282747         0.940\n",
       "3   0.206508    0.9500  0.250883         0.941\n",
       "4   0.186109    0.9500  0.173124         0.952\n",
       "5   0.198795    0.9450  0.168126         0.957\n",
       "6   0.235543    0.9435  0.160510         0.954\n",
       "7   0.135905    0.9605  0.143182         0.962\n",
       "8   0.105826    0.9625  0.133296         0.963\n",
       "9   0.106187    0.9605  0.128342         0.963\n",
       "10  0.097090    0.9650  0.117555         0.962\n",
       "11  0.083454    0.9665  0.154490         0.960\n",
       "12  0.099268    0.9680  0.209043         0.957\n",
       "13  0.095529    0.9745  0.166200         0.960\n",
       "14  0.111914    0.9620  0.249318         0.937\n",
       "15  0.096274    0.9620  0.118369         0.955"
      ]
     },
     "execution_count": 254,
     "metadata": {},
     "output_type": "execute_result"
    }
   ],
   "source": [
    "df_model_history = pd.DataFrame(second_history.history)\n",
    "df_model_history"
   ]
  },
  {
   "cell_type": "code",
   "execution_count": 255,
   "metadata": {},
   "outputs": [],
   "source": [
    "amount_epochs = np.arange(0, df_model_history.shape[0])"
   ]
  },
  {
   "cell_type": "code",
   "execution_count": 256,
   "metadata": {},
   "outputs": [
    {
     "data": {
      "text/plain": [
       "<AxesSubplot:ylabel='accuracy'>"
      ]
     },
     "execution_count": 256,
     "metadata": {},
     "output_type": "execute_result"
    },
    {
     "data": {
      "image/png": "[encoded data removed]",
      "text/plain": [
       "<Figure size 432x288 with 1 Axes>"
      ]
     },
     "metadata": {
      "needs_background": "light"
     },
     "output_type": "display_data"
    }
   ],
   "source": [
    "sns.lineplot(data=df_model_history, y=\"accuracy\", x=amount_epochs, label=\"train\")\n",
    "sns.lineplot(data=df_model_history, y=\"val_accuracy\", x=amount_epochs, label=\"val\")"
   ]
  },
  {
   "cell_type": "code",
   "execution_count": 257,
   "metadata": {},
   "outputs": [
    {
     "data": {
      "text/plain": [
       "<AxesSubplot:ylabel='loss'>"
      ]
     },
     "execution_count": 257,
     "metadata": {},
     "output_type": "execute_result"
    },
    {
     "data": {
      "image/png": "[encoded data removed]",
      "text/plain": [
       "<Figure size 432x288 with 1 Axes>"
      ]
     },
     "metadata": {
      "needs_background": "light"
     },
     "output_type": "display_data"
    }
   ],
   "source": [
    "sns.lineplot(data=df_model_history, y=\"loss\", x=amount_epochs, label=\"train\")\n",
    "sns.lineplot(data=df_model_history, y=\"val_loss\", x=amount_epochs, label=\"val\")"
   ]
  },
  {
   "cell_type": "markdown",
   "metadata": {},
   "source": [
    "### Evaluate model"
   ]
  },
  {
   "cell_type": "code",
   "execution_count": 279,
   "metadata": {},
   "outputs": [],
   "source": [
    "best_model = models.load_model('checkpoints/cnn_4_model_2_best_weights.hdf5')"
   ]
  },
  {
   "cell_type": "code",
   "execution_count": 280,
   "metadata": {},
   "outputs": [
    {
     "name": "stderr",
     "output_type": "stream",
     "text": [
      "2022-10-31 23:21:23.089706: I tensorflow/core/grappler/optimizers/custom_graph_optimizer_registry.cc:113] Plugin optimizer for device_type GPU is enabled.\n"
     ]
    },
    {
     "name": "stdout",
     "output_type": "stream",
     "text": [
      "33/33 [==============================] - 16s 405ms/step - loss: 0.1589 - accuracy: 0.9553\n"
     ]
    }
   ],
   "source": [
    "test_loss, test_accuracy = evaluate_model(best_model, test_data)"
   ]
  },
  {
   "cell_type": "code",
   "execution_count": 281,
   "metadata": {},
   "outputs": [
    {
     "name": "stderr",
     "output_type": "stream",
     "text": [
      "2022-10-31 23:21:39.158336: I tensorflow/core/grappler/optimizers/custom_graph_optimizer_registry.cc:113] Plugin optimizer for device_type GPU is enabled.\n"
     ]
    },
    {
     "name": "stdout",
     "output_type": "stream",
     "text": [
      "33/33 [==============================] - 14s 369ms/step\n"
     ]
    },
    {
     "data": {
      "image/png": "[encoded data removed]",
      "text/plain": [
       "<Figure size 432x288 with 2 Axes>"
      ]
     },
     "metadata": {
      "needs_background": "light"
     },
     "output_type": "display_data"
    }
   ],
   "source": [
    "test_data.shuffle = False\n",
    "y_pred = best_model.predict(test_data)\n",
    "\n",
    "y_pred = np.argmax(y_pred, axis=1)\n",
    "y_pred = y_pred.tolist()\n",
    "\n",
    "confusion_matrix_model(test_data.classes, y_pred)"
   ]
  },
  {
   "cell_type": "code",
   "execution_count": 282,
   "metadata": {},
   "outputs": [],
   "source": [
    "test_data.shuffle = True"
   ]
  },
  {
   "cell_type": "markdown",
   "metadata": {},
   "source": [
    "## Create third model"
   ]
  },
  {
   "cell_type": "code",
   "execution_count": 262,
   "metadata": {},
   "outputs": [],
   "source": [
    "third_model = create_model(input_shape, output_shape, model_type=\"densenet\")"
   ]
  },
  {
   "cell_type": "code",
   "execution_count": 263,
   "metadata": {},
   "outputs": [
    {
     "name": "stdout",
     "output_type": "stream",
     "text": [
      "Model: \"sequential_15\"\n",
      "_________________________________________________________________\n",
      " Layer (type)                Output Shape              Param #   \n",
      "=================================================================\n",
      " densenet201 (Functional)    (None, 7, 7, 1920)        18321984  \n",
      "                                                                 \n",
      " flatten_7 (Flatten)         (None, 94080)             0         \n",
      "                                                                 \n",
      " dense_43 (Dense)            (None, 256)               24084736  \n",
      "                                                                 \n",
      " dense_44 (Dense)            (None, 256)               65792     \n",
      "                                                                 \n",
      " dense_45 (Dense)            (None, 2)                 514       \n",
      "                                                                 \n",
      "=================================================================\n",
      "Total params: 42,473,026\n",
      "Trainable params: 24,151,042\n",
      "Non-trainable params: 18,321,984\n",
      "_________________________________________________________________\n"
     ]
    }
   ],
   "source": [
    "third_model.summary()"
   ]
  },
  {
   "cell_type": "markdown",
   "metadata": {},
   "source": [
    "### Compile model"
   ]
  },
  {
   "cell_type": "code",
   "execution_count": 264,
   "metadata": {},
   "outputs": [],
   "source": [
    "checkpoint_callback = tf.keras.callbacks.ModelCheckpoint(\n",
    "                            filepath=\"checkpoints/cnn_4_model_3_best_weights.hdf5\",\n",
    "                            monitor='val_loss',\n",
    "                            verbose=1,\n",
    "                            save_best_only=True)\n",
    "\n",
    "es_callback = tf.keras.callbacks.EarlyStopping(monitor='val_loss', mode='min', verbose=1, patience=5)"
   ]
  },
  {
   "cell_type": "code",
   "execution_count": 265,
   "metadata": {},
   "outputs": [],
   "source": [
    "sgd = SGD(learning_rate=0.01, decay=1e-6, momentum=0.9, nesterov=True)\n",
    "adam = Adam(learning_rate=1e-3, decay=1e-3 / 300)\n",
    "\n",
    "compile_model(third_model, 'sparse_categorical_crossentropy', adam)"
   ]
  },
  {
   "cell_type": "code",
   "execution_count": 266,
   "metadata": {},
   "outputs": [
    {
     "name": "stdout",
     "output_type": "stream",
     "text": [
      "Epoch 1/35\n"
     ]
    },
    {
     "name": "stderr",
     "output_type": "stream",
     "text": [
      "2022-10-31 22:55:41.952686: I tensorflow/core/grappler/optimizers/custom_graph_optimizer_registry.cc:113] Plugin optimizer for device_type GPU is enabled.\n"
     ]
    },
    {
     "name": "stdout",
     "output_type": "stream",
     "text": [
      "63/63 [==============================] - ETA: 0s - loss: 2.0424 - accuracy: 0.8750"
     ]
    },
    {
     "name": "stderr",
     "output_type": "stream",
     "text": [
      "2022-10-31 22:56:39.618145: I tensorflow/core/grappler/optimizers/custom_graph_optimizer_registry.cc:113] Plugin optimizer for device_type GPU is enabled.\n"
     ]
    },
    {
     "name": "stdout",
     "output_type": "stream",
     "text": [
      "\n",
      "Epoch 1: val_loss improved from inf to 0.25334, saving model to checkpoints/cnn_4_model_3_best_weights.hdf5\n",
      "63/63 [==============================] - 124s 2s/step - loss: 2.0424 - accuracy: 0.8750 - val_loss: 0.2533 - val_accuracy: 0.9570\n",
      "Epoch 2/35\n",
      "63/63 [==============================] - ETA: 0s - loss: 0.2178 - accuracy: 0.9395\n",
      "Epoch 2: val_loss improved from 0.25334 to 0.18309, saving model to checkpoints/cnn_4_model_3_best_weights.hdf5\n",
      "63/63 [==============================] - 169s 3s/step - loss: 0.2178 - accuracy: 0.9395 - val_loss: 0.1831 - val_accuracy: 0.9500\n",
      "Epoch 3/35\n",
      "63/63 [==============================] - ETA: 0s - loss: 0.2061 - accuracy: 0.9335 \n",
      "Epoch 3: val_loss did not improve from 0.18309\n",
      "63/63 [==============================] - 782s 13s/step - loss: 0.2061 - accuracy: 0.9335 - val_loss: 0.3809 - val_accuracy: 0.9190\n",
      "Epoch 4/35\n",
      "63/63 [==============================] - ETA: 0s - loss: 0.2046 - accuracy: 0.9380\n",
      "Epoch 4: val_loss improved from 0.18309 to 0.10647, saving model to checkpoints/cnn_4_model_3_best_weights.hdf5\n",
      "63/63 [==============================] - 53s 846ms/step - loss: 0.2046 - accuracy: 0.9380 - val_loss: 0.1065 - val_accuracy: 0.9530\n",
      "Epoch 5/35\n",
      "63/63 [==============================] - ETA: 0s - loss: 0.1927 - accuracy: 0.9370\n",
      "Epoch 5: val_loss did not improve from 0.10647\n",
      "63/63 [==============================] - 53s 846ms/step - loss: 0.1927 - accuracy: 0.9370 - val_loss: 0.1844 - val_accuracy: 0.9330\n",
      "Epoch 6/35\n",
      "63/63 [==============================] - ETA: 0s - loss: 0.1265 - accuracy: 0.9515\n",
      "Epoch 6: val_loss did not improve from 0.10647\n",
      "63/63 [==============================] - 52s 829ms/step - loss: 0.1265 - accuracy: 0.9515 - val_loss: 0.1084 - val_accuracy: 0.9630\n",
      "Epoch 7/35\n",
      "63/63 [==============================] - ETA: 0s - loss: 0.1240 - accuracy: 0.9580\n",
      "Epoch 7: val_loss did not improve from 0.10647\n",
      "63/63 [==============================] - 51s 807ms/step - loss: 0.1240 - accuracy: 0.9580 - val_loss: 0.1142 - val_accuracy: 0.9540\n",
      "Epoch 8/35\n",
      "63/63 [==============================] - ETA: 0s - loss: 0.1567 - accuracy: 0.9450\n",
      "Epoch 8: val_loss did not improve from 0.10647\n",
      "63/63 [==============================] - 51s 809ms/step - loss: 0.1567 - accuracy: 0.9450 - val_loss: 0.1354 - val_accuracy: 0.9560\n",
      "Epoch 9/35\n",
      "63/63 [==============================] - ETA: 0s - loss: 0.1340 - accuracy: 0.9500\n",
      "Epoch 9: val_loss did not improve from 0.10647\n",
      "63/63 [==============================] - 52s 833ms/step - loss: 0.1340 - accuracy: 0.9500 - val_loss: 0.1338 - val_accuracy: 0.9530\n",
      "Epoch 9: early stopping\n"
     ]
    }
   ],
   "source": [
    "third_history = fit_model(third_model, train_data, validation_data=val_data, epochs=35, callbacks=[checkpoint_callback, es_callback])"
   ]
  },
  {
   "cell_type": "markdown",
   "metadata": {},
   "source": [
    "### Study model"
   ]
  },
  {
   "cell_type": "code",
   "execution_count": 267,
   "metadata": {},
   "outputs": [
    {
     "data": {
      "text/html": [
       "<div>\n",
       "<style scoped>\n",
       "    .dataframe tbody tr th:only-of-type {\n",
       "        vertical-align: middle;\n",
       "    }\n",
       "\n",
       "    .dataframe tbody tr th {\n",
       "        vertical-align: top;\n",
       "    }\n",
       "\n",
       "    .dataframe thead th {\n",
       "        text-align: right;\n",
       "    }\n",
       "</style>\n",
       "<table border=\"1\" class=\"dataframe\">\n",
       "  <thead>\n",
       "    <tr style=\"text-align: right;\">\n",
       "      <th></th>\n",
       "      <th>loss</th>\n",
       "      <th>accuracy</th>\n",
       "      <th>val_loss</th>\n",
       "      <th>val_accuracy</th>\n",
       "    </tr>\n",
       "  </thead>\n",
       "  <tbody>\n",
       "    <tr>\n",
       "      <th>0</th>\n",
       "      <td>2.042410</td>\n",
       "      <td>0.8750</td>\n",
       "      <td>0.253343</td>\n",
       "      <td>0.957</td>\n",
       "    </tr>\n",
       "    <tr>\n",
       "      <th>1</th>\n",
       "      <td>0.217843</td>\n",
       "      <td>0.9395</td>\n",
       "      <td>0.183087</td>\n",
       "      <td>0.950</td>\n",
       "    </tr>\n",
       "    <tr>\n",
       "      <th>2</th>\n",
       "      <td>0.206084</td>\n",
       "      <td>0.9335</td>\n",
       "      <td>0.380943</td>\n",
       "      <td>0.919</td>\n",
       "    </tr>\n",
       "    <tr>\n",
       "      <th>3</th>\n",
       "      <td>0.204599</td>\n",
       "      <td>0.9380</td>\n",
       "      <td>0.106467</td>\n",
       "      <td>0.953</td>\n",
       "    </tr>\n",
       "    <tr>\n",
       "      <th>4</th>\n",
       "      <td>0.192694</td>\n",
       "      <td>0.9370</td>\n",
       "      <td>0.184428</td>\n",
       "      <td>0.933</td>\n",
       "    </tr>\n",
       "    <tr>\n",
       "      <th>5</th>\n",
       "      <td>0.126489</td>\n",
       "      <td>0.9515</td>\n",
       "      <td>0.108377</td>\n",
       "      <td>0.963</td>\n",
       "    </tr>\n",
       "    <tr>\n",
       "      <th>6</th>\n",
       "      <td>0.123981</td>\n",
       "      <td>0.9580</td>\n",
       "      <td>0.114181</td>\n",
       "      <td>0.954</td>\n",
       "    </tr>\n",
       "    <tr>\n",
       "      <th>7</th>\n",
       "      <td>0.156720</td>\n",
       "      <td>0.9450</td>\n",
       "      <td>0.135445</td>\n",
       "      <td>0.956</td>\n",
       "    </tr>\n",
       "    <tr>\n",
       "      <th>8</th>\n",
       "      <td>0.133977</td>\n",
       "      <td>0.9500</td>\n",
       "      <td>0.133784</td>\n",
       "      <td>0.953</td>\n",
       "    </tr>\n",
       "  </tbody>\n",
       "</table>\n",
       "</div>"
      ],
      "text/plain": [
       "       loss  accuracy  val_loss  val_accuracy\n",
       "0  2.042410    0.8750  0.253343         0.957\n",
       "1  0.217843    0.9395  0.183087         0.950\n",
       "2  0.206084    0.9335  0.380943         0.919\n",
       "3  0.204599    0.9380  0.106467         0.953\n",
       "4  0.192694    0.9370  0.184428         0.933\n",
       "5  0.126489    0.9515  0.108377         0.963\n",
       "6  0.123981    0.9580  0.114181         0.954\n",
       "7  0.156720    0.9450  0.135445         0.956\n",
       "8  0.133977    0.9500  0.133784         0.953"
      ]
     },
     "execution_count": 267,
     "metadata": {},
     "output_type": "execute_result"
    }
   ],
   "source": [
    "df_model_history = pd.DataFrame(third_history.history)\n",
    "df_model_history"
   ]
  },
  {
   "cell_type": "code",
   "execution_count": 268,
   "metadata": {},
   "outputs": [],
   "source": [
    "amount_epochs = np.arange(0, df_model_history.shape[0])"
   ]
  },
  {
   "cell_type": "code",
   "execution_count": 269,
   "metadata": {},
   "outputs": [
    {
     "data": {
      "text/plain": [
       "<AxesSubplot:ylabel='accuracy'>"
      ]
     },
     "execution_count": 269,
     "metadata": {},
     "output_type": "execute_result"
    },
    {
     "data": {
      "image/png": "[encoded data removed]",
      "text/plain": [
       "<Figure size 432x288 with 1 Axes>"
      ]
     },
     "metadata": {
      "needs_background": "light"
     },
     "output_type": "display_data"
    }
   ],
   "source": [
    "sns.lineplot(data=df_model_history, y=\"accuracy\", x=amount_epochs, label=\"train\")\n",
    "sns.lineplot(data=df_model_history, y=\"val_accuracy\", x=amount_epochs, label=\"val\")"
   ]
  },
  {
   "cell_type": "code",
   "execution_count": 270,
   "metadata": {},
   "outputs": [
    {
     "data": {
      "text/plain": [
       "<AxesSubplot:ylabel='loss'>"
      ]
     },
     "execution_count": 270,
     "metadata": {},
     "output_type": "execute_result"
    },
    {
     "data": {
      "image/png": "[encoded data removed]",
      "text/plain": [
       "<Figure size 432x288 with 1 Axes>"
      ]
     },
     "metadata": {
      "needs_background": "light"
     },
     "output_type": "display_data"
    }
   ],
   "source": [
    "sns.lineplot(data=df_model_history, y=\"loss\", x=amount_epochs, label=\"train\")\n",
    "sns.lineplot(data=df_model_history, y=\"val_loss\", x=amount_epochs, label=\"val\")"
   ]
  },
  {
   "cell_type": "markdown",
   "metadata": {},
   "source": [
    "### Evaluate model"
   ]
  },
  {
   "cell_type": "code",
   "execution_count": 271,
   "metadata": {},
   "outputs": [],
   "source": [
    "best_model = models.load_model('checkpoints/cnn_4_model_3_best_weights.hdf5')"
   ]
  },
  {
   "cell_type": "code",
   "execution_count": 272,
   "metadata": {},
   "outputs": [
    {
     "name": "stderr",
     "output_type": "stream",
     "text": [
      "2022-10-31 23:18:49.165787: I tensorflow/core/grappler/optimizers/custom_graph_optimizer_registry.cc:113] Plugin optimizer for device_type GPU is enabled.\n"
     ]
    },
    {
     "name": "stdout",
     "output_type": "stream",
     "text": [
      "33/33 [==============================] - 40s 935ms/step - loss: 0.1610 - accuracy: 0.9427\n"
     ]
    }
   ],
   "source": [
    "test_loss, test_accuracy = evaluate_model(best_model, test_data)"
   ]
  },
  {
   "cell_type": "code",
   "execution_count": 283,
   "metadata": {},
   "outputs": [
    {
     "name": "stdout",
     "output_type": "stream",
     "text": [
      "33/33 [==============================] - 11s 318ms/step\n"
     ]
    },
    {
     "data": {
      "image/png": "[encoded data removed]",
      "text/plain": [
       "<Figure size 432x288 with 2 Axes>"
      ]
     },
     "metadata": {
      "needs_background": "light"
     },
     "output_type": "display_data"
    }
   ],
   "source": [
    "test_data.shuffle = False\n",
    "\n",
    "y_pred = best_model.predict(test_data)\n",
    "\n",
    "y_pred = np.argmax(y_pred, axis=1)\n",
    "y_pred = y_pred.tolist()\n",
    "\n",
    "confusion_matrix_model(test_data.labels, y_pred)"
   ]
  },
  {
   "cell_type": "code",
   "execution_count": 284,
   "metadata": {},
   "outputs": [],
   "source": [
    "test_data.shuffle = True"
   ]
  },
  {
   "cell_type": "markdown",
   "metadata": {},
   "source": [
    "## Visualize layers"
   ]
  },
  {
   "cell_type": "code",
   "execution_count": 275,
   "metadata": {},
   "outputs": [
    {
     "ename": "ValueError",
     "evalue": "Graph disconnected: cannot obtain value for tensor KerasTensor(type_spec=TensorSpec(shape=(None, 224, 224, 3), dtype=tf.float32, name='input_15'), name='input_15', description=\"created by layer 'input_15'\") at layer \"zero_padding2d_2\". The following previous layers were accessed without issue: []",
     "output_type": "error",
     "traceback": [
      "\u001b[0;31m---------------------------------------------------------------------------\u001b[0m",
      "\u001b[0;31mValueError\u001b[0m                                Traceback (most recent call last)",
      "\u001b[1;32m/Users/andresnowak/developer/AI_Avanzada_concentracion/deep_learning/activity4_transfer_learning.ipynb Cell 71\u001b[0m in \u001b[0;36m<cell line: 3>\u001b[0;34m()\u001b[0m\n\u001b[1;32m      <a href='vscode-notebook-cell:/Users/andresnowak/developer/AI_Avanzada_concentracion/deep_learning/activity4_transfer_learning.ipynb#Y122sZmlsZQ%3D%3D?line=0'>1</a>\u001b[0m layer_outputs \u001b[39m=\u001b[39m [layer\u001b[39m.\u001b[39moutput \u001b[39mfor\u001b[39;00m layer \u001b[39min\u001b[39;00m best_model\u001b[39m.\u001b[39mlayers[:\u001b[39m12\u001b[39m]] \n\u001b[1;32m      <a href='vscode-notebook-cell:/Users/andresnowak/developer/AI_Avanzada_concentracion/deep_learning/activity4_transfer_learning.ipynb#Y122sZmlsZQ%3D%3D?line=1'>2</a>\u001b[0m \u001b[39m# Extracts the outputs of the top 12 layers\u001b[39;00m\n\u001b[0;32m----> <a href='vscode-notebook-cell:/Users/andresnowak/developer/AI_Avanzada_concentracion/deep_learning/activity4_transfer_learning.ipynb#Y122sZmlsZQ%3D%3D?line=2'>3</a>\u001b[0m activation_model \u001b[39m=\u001b[39m models\u001b[39m.\u001b[39;49mModel(inputs\u001b[39m=\u001b[39;49mbest_model\u001b[39m.\u001b[39;49minput, outputs\u001b[39m=\u001b[39;49mlayer_outputs)\n",
      "File \u001b[0;32m~/miniforge3/envs/AI/lib/python3.10/site-packages/tensorflow/python/training/tracking/base.py:587\u001b[0m, in \u001b[0;36mno_automatic_dependency_tracking.<locals>._method_wrapper\u001b[0;34m(self, *args, **kwargs)\u001b[0m\n\u001b[1;32m    585\u001b[0m \u001b[39mself\u001b[39m\u001b[39m.\u001b[39m_self_setattr_tracking \u001b[39m=\u001b[39m \u001b[39mFalse\u001b[39;00m  \u001b[39m# pylint: disable=protected-access\u001b[39;00m\n\u001b[1;32m    586\u001b[0m \u001b[39mtry\u001b[39;00m:\n\u001b[0;32m--> 587\u001b[0m   result \u001b[39m=\u001b[39m method(\u001b[39mself\u001b[39;49m, \u001b[39m*\u001b[39;49margs, \u001b[39m*\u001b[39;49m\u001b[39m*\u001b[39;49mkwargs)\n\u001b[1;32m    588\u001b[0m \u001b[39mfinally\u001b[39;00m:\n\u001b[1;32m    589\u001b[0m   \u001b[39mself\u001b[39m\u001b[39m.\u001b[39m_self_setattr_tracking \u001b[39m=\u001b[39m previous_value  \u001b[39m# pylint: disable=protected-access\u001b[39;00m\n",
      "File \u001b[0;32m~/miniforge3/envs/AI/lib/python3.10/site-packages/keras/engine/functional.py:148\u001b[0m, in \u001b[0;36mFunctional.__init__\u001b[0;34m(self, inputs, outputs, name, trainable, **kwargs)\u001b[0m\n\u001b[1;32m    145\u001b[0m   \u001b[39mif\u001b[39;00m \u001b[39mnot\u001b[39;00m \u001b[39mall\u001b[39m([functional_utils\u001b[39m.\u001b[39mis_input_keras_tensor(t)\n\u001b[1;32m    146\u001b[0m               \u001b[39mfor\u001b[39;00m t \u001b[39min\u001b[39;00m tf\u001b[39m.\u001b[39mnest\u001b[39m.\u001b[39mflatten(inputs)]):\n\u001b[1;32m    147\u001b[0m     inputs, outputs \u001b[39m=\u001b[39m functional_utils\u001b[39m.\u001b[39mclone_graph_nodes(inputs, outputs)\n\u001b[0;32m--> 148\u001b[0m \u001b[39mself\u001b[39;49m\u001b[39m.\u001b[39;49m_init_graph_network(inputs, outputs)\n",
      "File \u001b[0;32m~/miniforge3/envs/AI/lib/python3.10/site-packages/tensorflow/python/training/tracking/base.py:587\u001b[0m, in \u001b[0;36mno_automatic_dependency_tracking.<locals>._method_wrapper\u001b[0;34m(self, *args, **kwargs)\u001b[0m\n\u001b[1;32m    585\u001b[0m \u001b[39mself\u001b[39m\u001b[39m.\u001b[39m_self_setattr_tracking \u001b[39m=\u001b[39m \u001b[39mFalse\u001b[39;00m  \u001b[39m# pylint: disable=protected-access\u001b[39;00m\n\u001b[1;32m    586\u001b[0m \u001b[39mtry\u001b[39;00m:\n\u001b[0;32m--> 587\u001b[0m   result \u001b[39m=\u001b[39m method(\u001b[39mself\u001b[39;49m, \u001b[39m*\u001b[39;49margs, \u001b[39m*\u001b[39;49m\u001b[39m*\u001b[39;49mkwargs)\n\u001b[1;32m    588\u001b[0m \u001b[39mfinally\u001b[39;00m:\n\u001b[1;32m    589\u001b[0m   \u001b[39mself\u001b[39m\u001b[39m.\u001b[39m_self_setattr_tracking \u001b[39m=\u001b[39m previous_value  \u001b[39m# pylint: disable=protected-access\u001b[39;00m\n",
      "File \u001b[0;32m~/miniforge3/envs/AI/lib/python3.10/site-packages/keras/engine/functional.py:232\u001b[0m, in \u001b[0;36mFunctional._init_graph_network\u001b[0;34m(self, inputs, outputs)\u001b[0m\n\u001b[1;32m    229\u001b[0m   \u001b[39mself\u001b[39m\u001b[39m.\u001b[39m_input_coordinates\u001b[39m.\u001b[39mappend((layer, node_index, tensor_index))\n\u001b[1;32m    231\u001b[0m \u001b[39m# Keep track of the network's nodes and layers.\u001b[39;00m\n\u001b[0;32m--> 232\u001b[0m nodes, nodes_by_depth, layers, _ \u001b[39m=\u001b[39m _map_graph_network(\n\u001b[1;32m    233\u001b[0m     \u001b[39mself\u001b[39;49m\u001b[39m.\u001b[39;49minputs, \u001b[39mself\u001b[39;49m\u001b[39m.\u001b[39;49moutputs)\n\u001b[1;32m    234\u001b[0m \u001b[39mself\u001b[39m\u001b[39m.\u001b[39m_network_nodes \u001b[39m=\u001b[39m nodes\n\u001b[1;32m    235\u001b[0m \u001b[39mself\u001b[39m\u001b[39m.\u001b[39m_nodes_by_depth \u001b[39m=\u001b[39m nodes_by_depth\n",
      "File \u001b[0;32m~/miniforge3/envs/AI/lib/python3.10/site-packages/keras/engine/functional.py:998\u001b[0m, in \u001b[0;36m_map_graph_network\u001b[0;34m(inputs, outputs)\u001b[0m\n\u001b[1;32m    996\u001b[0m \u001b[39mfor\u001b[39;00m x \u001b[39min\u001b[39;00m tf\u001b[39m.\u001b[39mnest\u001b[39m.\u001b[39mflatten(node\u001b[39m.\u001b[39mkeras_inputs):\n\u001b[1;32m    997\u001b[0m   \u001b[39mif\u001b[39;00m \u001b[39mid\u001b[39m(x) \u001b[39mnot\u001b[39;00m \u001b[39min\u001b[39;00m computable_tensors:\n\u001b[0;32m--> 998\u001b[0m     \u001b[39mraise\u001b[39;00m \u001b[39mValueError\u001b[39;00m(\n\u001b[1;32m    999\u001b[0m         \u001b[39mf\u001b[39m\u001b[39m'\u001b[39m\u001b[39mGraph disconnected: cannot obtain value for tensor \u001b[39m\u001b[39m{\u001b[39;00mx\u001b[39m}\u001b[39;00m\u001b[39m \u001b[39m\u001b[39m'\u001b[39m\n\u001b[1;32m   1000\u001b[0m         \u001b[39mf\u001b[39m\u001b[39m'\u001b[39m\u001b[39mat layer \u001b[39m\u001b[39m\"\u001b[39m\u001b[39m{\u001b[39;00mlayer\u001b[39m.\u001b[39mname\u001b[39m}\u001b[39;00m\u001b[39m\"\u001b[39m\u001b[39m. The following previous layers \u001b[39m\u001b[39m'\u001b[39m\n\u001b[1;32m   1001\u001b[0m         \u001b[39mf\u001b[39m\u001b[39m'\u001b[39m\u001b[39mwere accessed without issue: \u001b[39m\u001b[39m{\u001b[39;00mlayers_with_complete_input\u001b[39m}\u001b[39;00m\u001b[39m'\u001b[39m)\n\u001b[1;32m   1002\u001b[0m \u001b[39mfor\u001b[39;00m x \u001b[39min\u001b[39;00m tf\u001b[39m.\u001b[39mnest\u001b[39m.\u001b[39mflatten(node\u001b[39m.\u001b[39moutputs):\n\u001b[1;32m   1003\u001b[0m   computable_tensors\u001b[39m.\u001b[39madd(\u001b[39mid\u001b[39m(x))\n",
      "\u001b[0;31mValueError\u001b[0m: Graph disconnected: cannot obtain value for tensor KerasTensor(type_spec=TensorSpec(shape=(None, 224, 224, 3), dtype=tf.float32, name='input_15'), name='input_15', description=\"created by layer 'input_15'\") at layer \"zero_padding2d_2\". The following previous layers were accessed without issue: []"
     ]
    }
   ],
   "source": [
    "layer_outputs = [layer.output for layer in best_model.layers[:12]] \n",
    "# Extracts the outputs of the top 12 layers\n",
    "activation_model = models.Model(inputs=best_model.input, outputs=layer_outputs) # Creates a model that will return these outputs, given the model input"
   ]
  },
  {
   "cell_type": "code",
   "execution_count": null,
   "metadata": {},
   "outputs": [],
   "source": [
    "#activations = activation_model.predict(test_data) \n",
    "# Returns a list of five Numpy arrays: one array per layer activation"
   ]
  },
  {
   "cell_type": "code",
   "execution_count": null,
   "metadata": {},
   "outputs": [
    {
     "ename": "NameError",
     "evalue": "name 'activations' is not defined",
     "output_type": "error",
     "traceback": [
      "\u001b[0;31m---------------------------------------------------------------------------\u001b[0m",
      "\u001b[0;31mNameError\u001b[0m                                 Traceback (most recent call last)",
      "Cell \u001b[0;32mIn [52], line 7\u001b[0m\n\u001b[1;32m      3\u001b[0m     layer_names\u001b[39m.\u001b[39mappend(layer\u001b[39m.\u001b[39mname) \u001b[39m# Names of the layers, so you can have them as part of your plot\u001b[39;00m\n\u001b[1;32m      5\u001b[0m images_per_row \u001b[39m=\u001b[39m \u001b[39m16\u001b[39m\n\u001b[0;32m----> 7\u001b[0m \u001b[39mfor\u001b[39;00m layer_name, layer_activation \u001b[39min\u001b[39;00m \u001b[39mzip\u001b[39m(layer_names, activations): \u001b[39m# Displays the feature maps\u001b[39;00m\n\u001b[1;32m      8\u001b[0m     n_features \u001b[39m=\u001b[39m layer_activation\u001b[39m.\u001b[39mshape[\u001b[39m-\u001b[39m\u001b[39m1\u001b[39m] \u001b[39m# Number of features in the feature map\u001b[39;00m\n\u001b[1;32m      9\u001b[0m     size \u001b[39m=\u001b[39m layer_activation\u001b[39m.\u001b[39mshape[\u001b[39m1\u001b[39m] \u001b[39m#The feature map has shape (1, size, size, n_features).\u001b[39;00m\n",
      "\u001b[0;31mNameError\u001b[0m: name 'activations' is not defined"
     ]
    }
   ],
   "source": [
    "layer_names = []\n",
    "for layer in best_model.layers[:12]:\n",
    "    layer_names.append(layer.name) # Names of the layers, so you can have them as part of your plot\n",
    "    \n",
    "images_per_row = 16\n",
    "\n",
    "for layer_name, layer_activation in zip(layer_names, activations): # Displays the feature maps\n",
    "    n_features = layer_activation.shape[-1] # Number of features in the feature map\n",
    "    size = layer_activation.shape[1] #The feature map has shape (1, size, size, n_features).\n",
    "    n_cols = n_features // images_per_row # Tiles the activation channels in this matrix\n",
    "    display_grid = np.zeros((size * n_cols, images_per_row * size))\n",
    "    \n",
    "    print(layer_name)\n",
    "    if (\"flatten\" in layer_name): break\n",
    "\n",
    "    for col in range(n_cols): # Tiles each filter into a big horizontal grid\n",
    "        for row in range(images_per_row):\n",
    "            channel_image = layer_activation[0,\n",
    "                                             :, :,\n",
    "                                             col * images_per_row + row]\n",
    "            channel_image -= channel_image.mean() # Post-processes the feature to make it visually palatable\n",
    "            channel_image /= channel_image.std()\n",
    "            channel_image *= 64\n",
    "            channel_image += 128\n",
    "            channel_image = np.clip(channel_image, 0, 255).astype('uint8')\n",
    "            display_grid[col * size : (col + 1) * size, # Displays the grid\n",
    "                         row * size : (row + 1) * size] = channel_image\n",
    "    scale = 1. / size\n",
    "    plt.figure(figsize=(scale * display_grid.shape[1],\n",
    "                        scale * display_grid.shape[0]))\n",
    "    plt.title(layer_name)\n",
    "    plt.grid(False)\n",
    "    plt.imshow(display_grid, aspect='auto', cmap='viridis')"
   ]
  },
  {
   "cell_type": "markdown",
   "metadata": {},
   "source": [
    "## Conclusion"
   ]
  },
  {
   "cell_type": "markdown",
   "metadata": {},
   "source": [
    "- Report the accuracy for each model.  Which was the highest? Why?\n",
    "  - First model: 0.9728\n",
    "  - Second model: 0.9553\n",
    "  - Third model: 0.9427\n",
    "\n",
    "The first model was the best, but why i couldn't say, the reason i think is because first the second model was designed to be more efficient, so it has less complexity, so probably thats the reason why the second model was worse than the first. And for why the third model was worst than the first, well maybe it was because the model didn't have a lot of neurons in the hidden dense layers (i use the same layers for all the models), because at least in the keras page it says that densenet is better than resnet for the benchmarks they have, so i dont have a concrete explanation as to why the first model was better than the first one.\n",
    "\n",
    "- Report the training and validation loss. Which was the lowest? Why?\n",
    "  - First model: 0.0839\n",
    "  - Second model: 0.1589\n",
    "  - Third model: 0.1610\n",
    "\n",
    "Again the first model was the best one, and the reasons why i would say the same i said in the first question, but i'm not 100% sure why.\n",
    "  \n",
    "- Make a conclusion about the task you have done.\n",
    "  - Well for this activity i could see how models already trained can be reused to extract features for a new problem and create a model around this one or just use that model for your problem and you don't need to train it, because lets say that the image you want to predict is one which the resnet model was already trained, in this case we can just use the model as it is and thats it."
   ]
  },
  {
   "cell_type": "markdown",
   "metadata": {},
   "source": []
  }
 ],
 "metadata": {
  "kernelspec": {
   "display_name": "Python 3.10.6 ('AI')",
   "language": "python",
   "name": "python3"
  },
  "language_info": {
   "codemirror_mode": {
    "name": "ipython",
    "version": 3
   },
   "file_extension": ".py",
   "mimetype": "text/x-python",
   "name": "python",
   "nbconvert_exporter": "python",
   "pygments_lexer": "ipython3",
   "version": "3.10.6"
  },
  "orig_nbformat": 4,
  "vscode": {
   "interpreter": {
    "hash": "8036d000083d9c8e2133564bb58ecd6b29036dbd0e0a50b264afcf6a2fa15ce7"
   }
  }
 },
 "nbformat": 4,
 "nbformat_minor": 2
}
